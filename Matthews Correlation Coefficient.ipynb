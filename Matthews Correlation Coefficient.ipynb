{
 "cells": [
  {
   "cell_type": "markdown",
   "metadata": {},
   "source": [
    "# Abstract\n",
    "\n",
    "\n",
    "Medium voltage overhead power lines run for hundreds of miles to supply power to cities. These great distances make it expensive to manually inspect the lines for damage that doesn't immediately lead to a power outage, such as a tree branch hitting the line or a flaw in the insulator. These modes of damage lead to a phenomenon known as partial discharge — an electrical discharge which does not bridge the electrodes between an insulation system completely. Partial discharges slowly damage the power line, so left unrepaired they will eventually lead to a power outage or start a fire.\n",
    "\n",
    "My aim is to detect partial discharge patterns in signals acquired from these power lines. By developing a solution to detect partial discharge there will be reduced maintenance costs, and will prevent power outages."
   ]
  },
  {
   "cell_type": "markdown",
   "metadata": {},
   "source": [
    "The main task here is to evaluate 'Matthews Correlation Coefficient' between the predicted and the observed response.\n",
    "\n",
    "The MCC is given by the following formula -\n",
    "\n",
    "                         MCC =         (TP∗TN)−(FP∗FN)\n",
    "                               -----------------------------\n",
    "                               √(TP+FP)(TP+FN)(TN+FP)(TN+FN)\n",
    "                               \n",
    "                   "
   ]
  },
  {
   "cell_type": "markdown",
   "metadata": {},
   "source": [
    "I am predicting a binary prediction for the target variable. The file will contain a header and have the following format:\n",
    "\n",
    "signal_id,target\n",
    "0,0\n",
    "1,1\n",
    "2,0\n",
    "etc."
   ]
  },
  {
   "cell_type": "markdown",
   "metadata": {},
   "source": [
    "# The Data\n",
    "\n",
    "id_measurement: the ID code for a trio of signals recorded at the same time.\n",
    "\n",
    "signal_id: the foreign key for the signal data. Each signal ID is unique across both train and test, so the first ID in train is '0' but the first ID in test is '8712'.\n",
    "\n",
    "phase: the phase ID code within the signal trio. The phases may or may not all be impacted by a fault on the line.\n",
    "\n",
    "target: 0 if the power line is undamaged, 1 if there is a fault.\n"
   ]
  },
  {
   "cell_type": "markdown",
   "metadata": {},
   "source": [
    "# Explanations of the analysis and interpretations of figures and graphs\n",
    "\n",
    "Detailed explanations of graph and code is given as the notebook progresses."
   ]
  },
  {
   "cell_type": "code",
   "execution_count": 1,
   "metadata": {},
   "outputs": [
    {
     "data": {
      "text/plain": [
       "'\\nMy first Kaggle competition.\\nThank you so much mark4h for your \\nwonderful solutions.\\nSource - https://www.kaggle.com/mark4h/vsb-1st-place-solution\\n\\n'"
      ]
     },
     "execution_count": 1,
     "metadata": {},
     "output_type": "execute_result"
    }
   ],
   "source": [
    "import copy\n",
    "import gc\n",
    "import os\n",
    "import sys\n",
    "import warnings\n",
    "\n",
    "from IPython.core.display import display, HTML\n",
    "import pyarrow.parquet as pq # Used to read the data\n",
    "import lightgbm as lgb\n",
    "from matplotlib import pyplot as plt\n",
    "import numba\n",
    "import numpy as np\n",
    "import pandas as pd\n",
    "import scipy.stats\n",
    "import seaborn as sns \n",
    "import sklearn\n",
    "from sklearn.metrics import matthews_corrcoef, precision_recall_fscore_support\n",
    "\n",
    "\"\"\"\n",
    "My first Kaggle competition.\n",
    "Thank you so much mark4h for your \n",
    "wonderful solutions.\n",
    "Source - https://www.kaggle.com/mark4h/vsb-1st-place-solution\n",
    "\n",
    "\"\"\""
   ]
  },
  {
   "cell_type": "code",
   "execution_count": 2,
   "metadata": {},
   "outputs": [],
   "source": [
    "data_dir = '../input/vsb-power-line-fault-detection'"
   ]
  },
  {
   "cell_type": "code",
   "execution_count": 3,
   "metadata": {},
   "outputs": [],
   "source": [
    "Train_df = pd.read_csv('metadata_train.csv')\n",
    "Test_df = pd.read_csv('metadata_test.csv')"
   ]
  },
  {
   "cell_type": "markdown",
   "metadata": {},
   "source": [
    "## Basic EDA"
   ]
  },
  {
   "cell_type": "code",
   "execution_count": 4,
   "metadata": {},
   "outputs": [
    {
     "data": {
      "text/plain": [
       "signal_id         0\n",
       "id_measurement    0\n",
       "phase             0\n",
       "target            0\n",
       "dtype: int64"
      ]
     },
     "execution_count": 4,
     "metadata": {},
     "output_type": "execute_result"
    }
   ],
   "source": [
    "Train_df.isnull().sum()"
   ]
  },
  {
   "cell_type": "code",
   "execution_count": 5,
   "metadata": {},
   "outputs": [
    {
     "data": {
      "text/plain": [
       "signal_id         0\n",
       "id_measurement    0\n",
       "phase             0\n",
       "dtype: int64"
      ]
     },
     "execution_count": 5,
     "metadata": {},
     "output_type": "execute_result"
    }
   ],
   "source": [
    "Test_df.isnull().sum()"
   ]
  },
  {
   "cell_type": "markdown",
   "metadata": {},
   "source": [
    "## check target\n",
    "\n",
    "target: 0 if the power line is undamaged, 1 if there is a fault.\n",
    "\n",
    "As we can observe from the graph below, we see the following result -\n",
    "\n",
    "negative(target=0) target: 8187\n",
    "positive(target=1) target: 525\n",
    "\n",
    "fault data is too small \n"
   ]
  },
  {
   "cell_type": "code",
   "execution_count": 6,
   "metadata": {},
   "outputs": [
    {
     "data": {
      "text/plain": [
       "<matplotlib.axes._subplots.AxesSubplot at 0x1914aef1320>"
      ]
     },
     "execution_count": 6,
     "metadata": {},
     "output_type": "execute_result"
    },
    {
     "data": {
      "image/png": "[encoded data removed]",
      "text/plain": [
       "<Figure size 1008x288 with 2 Axes>"
      ]
     },
     "metadata": {
      "needs_background": "light"
     },
     "output_type": "display_data"
    }
   ],
   "source": [
    "fig, (ax1, ax2) = plt.subplots(1, 2, figsize=(14, 4))\n",
    "sns.countplot(x=\"target\", data=Train_df, ax=ax1)\n",
    "sns.countplot(x=\"target\", data=Train_df, hue=\"phase\", ax=ax2)"
   ]
  },
  {
   "cell_type": "code",
   "execution_count": 7,
   "metadata": {},
   "outputs": [],
   "source": [
    "train = pq.read_pandas('train.parquet').to_pandas()"
   ]
  },
  {
   "cell_type": "markdown",
   "metadata": {},
   "source": [
    "Plotting first few signals from the training set\n",
    "\n"
   ]
  },
  {
   "cell_type": "code",
   "execution_count": 8,
   "metadata": {},
   "outputs": [
    {
     "data": {
      "image/png": "[encoded data removed]",
      "text/plain": [
       "<Figure size 1728x576 with 1 Axes>"
      ]
     },
     "metadata": {
      "needs_background": "light"
     },
     "output_type": "display_data"
    }
   ],
   "source": [
    "plt.figure(figsize=(24, 8))\n",
    "plt.plot(train.iloc[:, :5]);"
   ]
  },
  {
   "cell_type": "code",
   "execution_count": 9,
   "metadata": {},
   "outputs": [
    {
     "data": {
      "text/html": [
       "<div>\n",
       "<style scoped>\n",
       "    .dataframe tbody tr th:only-of-type {\n",
       "        vertical-align: middle;\n",
       "    }\n",
       "\n",
       "    .dataframe tbody tr th {\n",
       "        vertical-align: top;\n",
       "    }\n",
       "\n",
       "    .dataframe thead th {\n",
       "        text-align: right;\n",
       "    }\n",
       "</style>\n",
       "<table border=\"1\" class=\"dataframe\">\n",
       "  <thead>\n",
       "    <tr style=\"text-align: right;\">\n",
       "      <th></th>\n",
       "      <th>signal_id</th>\n",
       "      <th>id_measurement</th>\n",
       "      <th>phase</th>\n",
       "      <th>target</th>\n",
       "    </tr>\n",
       "  </thead>\n",
       "  <tbody>\n",
       "    <tr>\n",
       "      <th>0</th>\n",
       "      <td>0</td>\n",
       "      <td>0</td>\n",
       "      <td>0</td>\n",
       "      <td>0</td>\n",
       "    </tr>\n",
       "    <tr>\n",
       "      <th>1</th>\n",
       "      <td>1</td>\n",
       "      <td>0</td>\n",
       "      <td>1</td>\n",
       "      <td>0</td>\n",
       "    </tr>\n",
       "    <tr>\n",
       "      <th>2</th>\n",
       "      <td>2</td>\n",
       "      <td>0</td>\n",
       "      <td>2</td>\n",
       "      <td>0</td>\n",
       "    </tr>\n",
       "    <tr>\n",
       "      <th>3</th>\n",
       "      <td>3</td>\n",
       "      <td>1</td>\n",
       "      <td>0</td>\n",
       "      <td>1</td>\n",
       "    </tr>\n",
       "    <tr>\n",
       "      <th>4</th>\n",
       "      <td>4</td>\n",
       "      <td>1</td>\n",
       "      <td>1</td>\n",
       "      <td>1</td>\n",
       "    </tr>\n",
       "    <tr>\n",
       "      <th>5</th>\n",
       "      <td>5</td>\n",
       "      <td>1</td>\n",
       "      <td>2</td>\n",
       "      <td>1</td>\n",
       "    </tr>\n",
       "  </tbody>\n",
       "</table>\n",
       "</div>"
      ],
      "text/plain": [
       "   signal_id  id_measurement  phase  target\n",
       "0          0               0      0       0\n",
       "1          1               0      1       0\n",
       "2          2               0      2       0\n",
       "3          3               1      0       1\n",
       "4          4               1      1       1\n",
       "5          5               1      2       1"
      ]
     },
     "execution_count": 9,
     "metadata": {},
     "output_type": "execute_result"
    }
   ],
   "source": [
    "Train_df.head(6)"
   ]
  },
  {
   "cell_type": "markdown",
   "metadata": {},
   "source": [
    "## Functions\n"
   ]
  },
  {
   "cell_type": "code",
   "execution_count": 10,
   "metadata": {},
   "outputs": [],
   "source": [
    "@numba.jit(nopython=True)\n",
    "def flatiron(x, alpha=50., beta=1):\n",
    "    \"\"\"\n",
    "    Flatten signal\n",
    "    \n",
    "    Creator: Michael Kazachok\n",
    "    Source: https://www.kaggle.com/miklgr500/flatiron\n",
    "    \n",
    "    \"\"\"\n",
    "    new_x = np.zeros_like(x)\n",
    "    zero = x[0]\n",
    "    for i in range(1, len(x)):\n",
    "        zero = zero*(alpha-beta)/alpha + beta*x[i]/alpha\n",
    "        new_x[i] = x[i] - zero\n",
    "    return new_x"
   ]
  },
  {
   "cell_type": "code",
   "execution_count": 11,
   "metadata": {},
   "outputs": [],
   "source": [
    "@numba.jit(nopython=True)\n",
    "def drop_missing(intersect,sample):\n",
    "    \"\"\"\n",
    "    Find intersection of sorted numpy arrays\n",
    "    \n",
    "    Since intersect1d sort arrays each time, it's effectively inefficient.\n",
    "    Here you have to sweep intersection and each sample together to build\n",
    "    the new intersection, which can be done in linear time, maintaining order. \n",
    "\n",
    "    Source: https://stackoverflow.com/questions/46572308/intersection-of-sorted-numpy-arrays\n",
    "    Creator: B. M.\n",
    "    \"\"\"\n",
    "    i=j=k=0\n",
    "    new_intersect=np.empty_like(intersect)\n",
    "    while i< intersect.size and j < sample.size:\n",
    "        if intersect[i]==sample[j]: # the 99% case\n",
    "            new_intersect[k]=intersect[i]\n",
    "            k+=1\n",
    "            i+=1\n",
    "            j+=1\n",
    "        elif intersect[i]<sample[j]:\n",
    "            i+=1\n",
    "        else : \n",
    "            j+=1\n",
    "    return new_intersect[:k]"
   ]
  },
  {
   "cell_type": "code",
   "execution_count": 12,
   "metadata": {},
   "outputs": [],
   "source": [
    "@numba.jit(nopython=True)\n",
    "def _local_maxima_1d_window_single_pass(x, w):\n",
    "    \n",
    "    midpoints = np.empty(x.shape[0] // 2, dtype=np.intp)\n",
    "    left_edges = np.empty(x.shape[0] // 2, dtype=np.intp)\n",
    "    right_edges = np.empty(x.shape[0] // 2, dtype=np.intp)\n",
    "    m = 0  # Pointer to the end of valid area in allocated arrays\n",
    "\n",
    "    i = 1  # Pointer to current sample, first one can't be maxima\n",
    "    i_max = x.shape[0] - 1  # Last sample can't be maxima\n",
    "    while i < i_max:\n",
    "        # Test if previous sample is smaller\n",
    "        if x[i - 1] < x[i]:\n",
    "            i_ahead = i + 1  # Index to look ahead of current sample\n",
    "\n",
    "            # Find next sample that is unequal to x[i]\n",
    "            while i_ahead < i_max and x[i_ahead] == x[i]:\n",
    "                i_ahead += 1\n",
    "                    \n",
    "            i_right = i_ahead - 1\n",
    "            \n",
    "            f = False\n",
    "            i_window_end = i_right + w\n",
    "            while i_ahead < i_max and i_ahead < i_window_end:\n",
    "                if x[i_ahead] > x[i]:\n",
    "                    f = True\n",
    "                    break\n",
    "                i_ahead += 1\n",
    "                                \n",
    "            # Maxima is found if next unequal sample is smaller than x[i]\n",
    "            if x[i_ahead] < x[i]:\n",
    "                left_edges[m] = i\n",
    "                right_edges[m] = i_right\n",
    "                midpoints[m] = (left_edges[m] + right_edges[m]) // 2\n",
    "                m += 1\n",
    "                \n",
    "            # Skip samples that can't be maximum\n",
    "            i = i_ahead - 1\n",
    "        i += 1\n",
    "\n",
    "    # Keep only valid part of array memory.\n",
    "    midpoints = midpoints[:m]\n",
    "    left_edges = left_edges[:m]\n",
    "    right_edges = right_edges[:m]\n",
    "    \n",
    "    return midpoints, left_edges, right_edges\n",
    "\n",
    "@numba.jit(nopython=True)\n",
    "def local_maxima_1d_window(x, w=1):\n",
    "    \"\"\"\n",
    "    Find local maxima in a 1D array.\n",
    "    This function finds all local maxima in a 1D array and returns the indices\n",
    "    for their midpoints (rounded down for even plateau sizes).\n",
    "    It is a modified version of scipy.signal._peak_finding_utils._local_maxima_1d\n",
    "    to include the use of a window to define how many points on each side to use in\n",
    "        the test for a point being a local maxima.\n",
    "    Parameters\n",
    "    ----------\n",
    "    x : ndarray\n",
    "        The array to search for local maxima.\n",
    "    w : np.int\n",
    "        How many points on each side to use for the comparison to be True\n",
    "    Returns\n",
    "    -------\n",
    "    midpoints : ndarray\n",
    "        Indices of midpoints of local maxima in `x`.\n",
    "    Notes\n",
    "    -----\n",
    "    - Compared to `argrelmax` this function is significantly faster and can\n",
    "      detect maxima that are more than one sample wide. However this comes at\n",
    "      the cost of being only applicable to 1D arrays.\n",
    "    \"\"\"    \n",
    "        \n",
    "    fm, fl, fr = _local_maxima_1d_window_single_pass(x, w)\n",
    "    bm, bl, br = _local_maxima_1d_window_single_pass(x[::-1], w)\n",
    "    bm = np.abs(bm - x.shape[0] + 1)[::-1]\n",
    "    bl = np.abs(bl - x.shape[0] + 1)[::-1]\n",
    "    br = np.abs(br - x.shape[0] + 1)[::-1]\n",
    "\n",
    "    m = drop_missing(fm, bm)\n",
    "\n",
    "    return m"
   ]
  },
  {
   "cell_type": "code",
   "execution_count": 13,
   "metadata": {},
   "outputs": [],
   "source": [
    "@numba.jit(nopython=True)\n",
    "def plateau_detection(grad, threshold, plateau_length=5):\n",
    "    \"\"\"Detect the point when the gradient has reach a plateau\"\"\"\n",
    "    \n",
    "    count = 0\n",
    "    loc = 0\n",
    "    for i in range(grad.shape[0]):\n",
    "        if grad[i] > threshold:\n",
    "            count += 1\n",
    "        \n",
    "        if count == plateau_length:\n",
    "            loc = i - plateau_length\n",
    "            break\n",
    "            \n",
    "    return loc\n"
   ]
  },
  {
   "cell_type": "code",
   "execution_count": 14,
   "metadata": {},
   "outputs": [],
   "source": [
    "#@numba.jit(nopython=True)\n",
    "def get_peaks(\n",
    "    x, \n",
    "    window=25,\n",
    "    visualise=False,\n",
    "    visualise_color=None,\n",
    "):\n",
    "    \"\"\"\n",
    "    Find the peaks in a signal trace.\n",
    "    Parameters\n",
    "    ----------\n",
    "    x : ndarray\n",
    "        The array to search.\n",
    "    window : np.int\n",
    "        How many points on each side to use for the local maxima test\n",
    "    Returns\n",
    "    -------\n",
    "    peaks_x : ndarray\n",
    "        Indices of midpoints of peaks in `x`.\n",
    "    peaks_y : ndarray\n",
    "        Absolute heights of peaks in `x`.\n",
    "    x_hp : ndarray\n",
    "        An absolute flattened version of `x`.\n",
    "    \"\"\"\n",
    "    \n",
    "    x_hp = flatiron(x, 50, 1)\n",
    "    x_dn = np.abs(x_hp)\n",
    "    \n",
    "    peaks = local_maxima_1d_window(x_dn, window)\n",
    "    \n",
    "    heights = x_dn[peaks]\n",
    "    \n",
    "    ii = np.argsort(heights)[::-1]\n",
    "    \n",
    "    peaks = peaks[ii]\n",
    "    heights = heights[ii]\n",
    "    \n",
    "    ky = heights\n",
    "    kx = np.arange(1, heights.shape[0]+1)\n",
    "    \n",
    "    conv_length = 9\n",
    "\n",
    "    grad = np.diff(ky, 1)/np.diff(kx, 1)\n",
    "    grad = np.convolve(grad, np.ones(conv_length)/conv_length)#, mode='valid')\n",
    "    grad = grad[conv_length-1:-conv_length+1]\n",
    "    \n",
    "    knee_x = plateau_detection(grad, -0.01, plateau_length=1000)\n",
    "    knee_x -= conv_length//2\n",
    "    \n",
    "    if visualise:\n",
    "        plt.plot(grad, color=visualise_color)\n",
    "        plt.axvline(knee_x, ls=\"--\", color=visualise_color)\n",
    "    \n",
    "    peaks_x = peaks[:knee_x]\n",
    "    peaks_y = heights[:knee_x]\n",
    "    \n",
    "    ii = np.argsort(peaks_x)\n",
    "    peaks_x = peaks_x[ii]\n",
    "    peaks_y = peaks_y[ii]\n",
    "        \n",
    "    return peaks_x, peaks_y, x_hp"
   ]
  },
  {
   "cell_type": "code",
   "execution_count": 15,
   "metadata": {},
   "outputs": [],
   "source": [
    "@numba.jit(nopython=True)\n",
    "def clip(v, l, u):\n",
    "    \"\"\"Numba helper function to clip a value\"\"\"\n",
    "    \n",
    "    if v < l:\n",
    "        v = l\n",
    "    elif v > u:\n",
    "        v = u\n",
    "        \n",
    "    return v"
   ]
  },
  {
   "cell_type": "code",
   "execution_count": 16,
   "metadata": {},
   "outputs": [],
   "source": [
    "peak_features_names = [\n",
    "    'ratio_next',\n",
    "    'ratio_prev',\n",
    "    'small_dist_to_min',\n",
    "    'sawtooth_rmse',\n",
    "]\n",
    "\n",
    "num_peak_features = len(peak_features_names)\n",
    "\n",
    "@numba.jit(nopython=True)\n",
    "def create_sawtooth_template(sawtooth_length, pre_length, post_length):\n",
    "    \"\"\"Generate sawtooth template\"\"\"\n",
    "    \n",
    "    l = pre_length+post_length+1\n",
    "    \n",
    "    st = np.zeros(l)\n",
    "    for i in range(sawtooth_length+1):\n",
    "        \n",
    "        j = pre_length+i\n",
    "        if j < l:\n",
    "            st[j] = 1 - ((2./sawtooth_length) * i)\n",
    "        \n",
    "    return st\n",
    "@numba.jit(nopython=True)\n",
    "def calculate_peak_features(px, x_hp0, ws=5, wl=25):\n",
    "    \"\"\"\n",
    "    Calculate features for peaks.\n",
    "    Parameters\n",
    "    ----------\n",
    "    px : ndarray\n",
    "        Indices of peaks.\n",
    "    x_hp0 : ndarray\n",
    "        The array to search.\n",
    "    ws : np.int\n",
    "        How many points on each side to use for small window features\n",
    "    wl : np.int\n",
    "        How many points on each side to use for large window features\n",
    "    Returns\n",
    "    -------\n",
    "    features : ndarray\n",
    "        Features calculate for each peak in `x_hp0`.\n",
    "    \"\"\"\n",
    "    \n",
    "    features = np.ones((px.shape[0], num_peak_features), dtype=np.float64) * np.nan\n",
    "    \n",
    "    for i in range(px.shape[0]):\n",
    "        \n",
    "        feature_number = 0\n",
    "        \n",
    "        x = px[i]\n",
    "        x_next = x+1\n",
    "        x_prev = x-1\n",
    "        \n",
    "        h0 = x_hp0[x]\n",
    "\n",
    "        ws_s = clip(x-ws, 0, 800000-1)\n",
    "        ws_e = clip(x+ws, 0, 800000-1)\n",
    "        wl_s = clip(x-wl, 0, 800000-1)\n",
    "        wl_e = clip(x+wl, 0, 800000-1)\n",
    "        \n",
    "        ws_pre = x - ws_s\n",
    "        ws_post = ws_e - x\n",
    "        \n",
    "        wl_pre = x - wl_s\n",
    "        wl_post = wl_e - x\n",
    "        \n",
    "        if x_next < 800000:\n",
    "            h0_next = x_hp0[x_next]\n",
    "            features[i, feature_number] = np.abs(h0_next)/np.abs(h0)\n",
    "        feature_number += 1\n",
    "            \n",
    "        if x_prev >= 0:\n",
    "            h0_prev = x_hp0[x_prev]\n",
    "            features[i, feature_number] = np.abs(h0_prev)/np.abs(h0)\n",
    "        feature_number += 1\n",
    "            \n",
    "        x_hp_ws0 = x_hp0[ws_s:ws_e+1]\n",
    "        x_hp_wl0 = x_hp0[wl_s:wl_e+1]\n",
    "        x_hp_wl0_norm = (x_hp_wl0/np.abs(h0))\n",
    "        x_hp_ws0_norm = (x_hp_ws0/np.abs(h0))\n",
    "        x_hp_abs_wl0 = np.abs(x_hp_wl0)\n",
    "        wl_max_0 = np.max(x_hp_abs_wl0)\n",
    "        \n",
    "        ws_opp_peak_i = np.argmin(x_hp_ws0*np.sign(h0))\n",
    "        \n",
    "        features[i, feature_number] = ws_opp_peak_i - ws\n",
    "        feature_number += 1\n",
    "        \n",
    "        x_hp_wl0_norm_sign = x_hp_wl0_norm * np.sign(h0)\n",
    "        \n",
    "        sawtooth_length = 3\n",
    "        st = create_sawtooth_template(sawtooth_length, wl_pre, wl_post)\n",
    "        assert np.argmax(st) == np.argmax(x_hp_wl0_norm_sign)\n",
    "        assert st.shape[0] == x_hp_wl0_norm_sign.shape[0]\n",
    "        features[i, feature_number] = np.mean(np.power(x_hp_wl0_norm_sign - st, 2))\n",
    "        feature_number += 1\n",
    "        \n",
    "        if i == 0:\n",
    "            assert feature_number == num_peak_features\n",
    "        \n",
    "    return features"
   ]
  },
  {
   "cell_type": "code",
   "execution_count": 17,
   "metadata": {},
   "outputs": [],
   "source": [
    "def process_signal(\n",
    "    data,\n",
    "    window=25,\n",
    "):\n",
    "    \"\"\"\n",
    "    Process a signal trace to find the peaks and calculate features for each peak.\n",
    "    Parameters\n",
    "    ----------\n",
    "    data : ndarray\n",
    "        The array to search.\n",
    "    window : np.int\n",
    "        How many points on each side to use for the local maxima test\n",
    "    Returns\n",
    "    -------\n",
    "    px0 : ndarray\n",
    "        Indices for each peak in `data`.\n",
    "    height0 : ndarray\n",
    "        Absolute heaight for each peak in `data`.\n",
    "    f0 : ndarray\n",
    "        Features calculate for each peak in `data`.\n",
    "    \"\"\"\n",
    "    \n",
    "    px0, height0, x_hp0 = get_peaks(\n",
    "        data.astype(np.float),\n",
    "        window=window, \n",
    "    )\n",
    "            \n",
    "    f0 = calculate_peak_features(px0, x_hp0)\n",
    "    \n",
    "    return px0, height0, f0"
   ]
  },
  {
   "cell_type": "code",
   "execution_count": 18,
   "metadata": {},
   "outputs": [],
   "source": [
    "def process_measurement_peaks(data, signal_ids):\n",
    "    \"\"\"\n",
    "    Process three signal traces in measurment to find the peaks\n",
    "    and calculate features for each peak.\n",
    "    Parameters\n",
    "    ----------\n",
    "    data : ndarray\n",
    "        Signal traces.\n",
    "    signal_ids : ndarray\n",
    "        Signal IDs for each of the signal traces in measurment\n",
    "    Returns\n",
    "    -------\n",
    "    res : ndarray\n",
    "        Data for each peak in the three traces in `data`.\n",
    "    sigid_res : ndarray\n",
    "        Signal ID for each row in `res`.\n",
    "    \"\"\"\n",
    "    res = []\n",
    "    sigid_res = []\n",
    "    \n",
    "    assert data.shape[1] % 3 == 0\n",
    "    N = data.shape[1]//3\n",
    "    \n",
    "    for i in range(N):\n",
    "        \n",
    "        sigids = signal_ids[i*3:(i+1)*3]\n",
    "        x = data[:, i*3:(i+1)*3].astype(np.float)\n",
    "        \n",
    "        px0, height0, f0 = process_signal(\n",
    "            x[:, 0]\n",
    "        )\n",
    "        \n",
    "        px1, height1, f1 = process_signal(\n",
    "            x[:, 1]\n",
    "        )\n",
    "        \n",
    "        px2, height2, f2 = process_signal(\n",
    "            x[:, 2]\n",
    "        )\n",
    "        \n",
    "        if px0.shape[0] != 0:\n",
    "            res.append(np.hstack([\n",
    "                px0[:, np.newaxis], \n",
    "                height0[:, np.newaxis],\n",
    "                f0,\n",
    "            ]))\n",
    "            \n",
    "            sigid_res.append(np.ones(px0.shape[0], dtype=np.int) * sigids[0])\n",
    "        \n",
    "        if px1.shape[0] != 0:\n",
    "            res.append(np.hstack([\n",
    "                px1[:, np.newaxis], \n",
    "                height1[:, np.newaxis],\n",
    "                f1,\n",
    "            ]))\n",
    "\n",
    "            sigid_res.append(np.ones(px1.shape[0], dtype=np.int) * sigids[1])\n",
    "        \n",
    "        if px2.shape[0] != 0:\n",
    "            res.append(np.hstack([\n",
    "                px2[:, np.newaxis], \n",
    "                height2[:, np.newaxis],\n",
    "                f2,\n",
    "            ]))\n",
    "\n",
    "            sigid_res.append(np.ones(px2.shape[0], dtype=np.int) * sigids[2])\n",
    "            \n",
    "    return res, sigid_res"
   ]
  },
  {
   "cell_type": "code",
   "execution_count": 19,
   "metadata": {},
   "outputs": [],
   "source": [
    "def process_measurement(data_df, meta_df, fft_data):\n",
    "    \"\"\"\n",
    "    Process three signal traces in measurment to find the peaks\n",
    "    and calculate features for each peak.\n",
    "    Parameters\n",
    "    ----------\n",
    "    data_df : pandas.DataFrame\n",
    "        Signal traces.\n",
    "    meta_df : pandas.DataFrame\n",
    "        Meta data for measurement\n",
    "    fft_data : ndarray\n",
    "        50Hz fourier coefficient for three traces\n",
    "    Returns\n",
    "    -------\n",
    "    peaks : pandas.DataFrame\n",
    "        Data for each peak in the three traces in `data`.\n",
    "    \"\"\"\n",
    "    peaks, sigids = process_measurement_peaks(\n",
    "        data_df.values, # [:, :100*3], \n",
    "        meta_df['signal_id'].values, # [:100*3]\n",
    "    )\n",
    "    \n",
    "    peaks = np.concatenate(peaks)\n",
    "\n",
    "    peaks = pd.DataFrame(\n",
    "        peaks,\n",
    "        columns=['px', 'height'] + peak_features_names\n",
    "    )\n",
    "    peaks['signal_id'] = np.concatenate(sigids)\n",
    " # Calculate the phase resolved location of each peak\n",
    "\n",
    "    phase_50hz = np.angle(fft_data, deg=False) # fft_data[:, 1]\n",
    "\n",
    "    phase_50hz = pd.DataFrame(\n",
    "        phase_50hz,\n",
    "        columns=['phase_50hz']\n",
    "    )\n",
    "    phase_50hz['signal_id'] = meta_df['signal_id'].values\n",
    "\n",
    "    peaks = pd.merge(peaks, phase_50hz, on='signal_id', how='left')\n",
    "\n",
    "    dt = (20e-3/(800000))\n",
    "    f1 = 50\n",
    "    w1 = 2*np.pi*f1\n",
    "    peaks['phase_aligned_x'] = (np.degrees(\n",
    "        (w1*peaks['px'].values*dt) + peaks['phase_50hz'].values\n",
    "    ) + 90) % 360\n",
    "    \n",
    "    # Calculate the phase resolved quarter for each peak\n",
    "    peaks['Q'] = pd.cut(peaks['phase_aligned_x'], [0, 90, 180, 270, 360], labels=[0, 1, 2, 3])\n",
    "    \n",
    "    return peaks"
   ]
  },
  {
   "cell_type": "code",
   "execution_count": 20,
   "metadata": {},
   "outputs": [],
   "source": [
    "@numba.jit(nopython=True, parallel=True)\n",
    "def calculate_50hz_fourier_coefficient(data):\n",
    "    \"\"\"Calculate the 50Hz Fourier coefficient of a signal.\n",
    "    Assumes the signal is 800000 data points long and covering 20ms.\n",
    "    \"\"\"\n",
    "\n",
    "    n = 800000\n",
    "    assert data.shape[0] == n\n",
    "    \n",
    "    omegas = np.exp(-2j * np.pi * np.arange(n) / n).reshape(n, 1)\n",
    "    m_ = omegas ** np.arange(1, 2)\n",
    "    \n",
    "    m = m_.flatten()\n",
    "\n",
    "    res = np.zeros(data.shape[1], dtype=m.dtype)\n",
    "    for i in numba.prange(data.shape[1]):\n",
    "        res[i] = m.dot(data[:, i].astype(m.dtype))\n",
    "            \n",
    "    return res"
   ]
  },
  {
   "cell_type": "markdown",
   "metadata": {},
   "source": [
    "# Preprocessing Overview\n",
    "\n",
    "Each signal trace is preprocessed to identify the peaks and calculate features.\n",
    "\n",
    "The steps performed to do this are:\n",
    "\n",
    "1. Flatten the trace using the flatiron function\n",
    "2. Identify the local maxima peaks in each trace using the local_maxima_1d_window function\n",
    "3. Filter the peaks identified in step 2 to separate the signal from the noise\n",
    "4. Calculate features for each peak identified in step 3 using calculate_peak_features\n",
    "\n",
    "\n",
    "Step 2. To identify the local maxima the function local_maxima_1d_window is used. This function takes a window length argument, which is the number of points on each side to use for the comparison. An example of the behaviour of this function can be seen below:"
   ]
  },
  {
   "cell_type": "code",
   "execution_count": 21,
   "metadata": {},
   "outputs": [
    {
     "data": {
      "image/png": "[encoded data removed]",
      "text/plain": [
       "<Figure size 432x288 with 1 Axes>"
      ]
     },
     "metadata": {
      "needs_background": "light"
     },
     "output_type": "display_data"
    }
   ],
   "source": [
    "a = np.array([0, 0, 0, 1, 1, 1, 2, 2, 2, 1, 0, 0, 3, 0, 0, 0, 0, 0, 1, 0, 2, 0, 3, 0, 2, 0, 1, 0])\n",
    "\n",
    "p1 = local_maxima_1d_window(a, w=1)\n",
    "p3 = local_maxima_1d_window(a, w=3)\n",
    "p4 = local_maxima_1d_window(a, w=4)\n",
    "\n",
    "plt.plot(a, marker='o')\n",
    "plt.scatter(p1, a[p1]+0.2, color='red', label='1')\n",
    "plt.scatter(p3, a[p3]+0.4, color='orange', marker='x', label='3')\n",
    "plt.scatter(p4, a[p4]+0.6, color='grey', marker='^', label='4')\n",
    "plt.legend()\n",
    "plt.show()\n"
   ]
  },
  {
   "cell_type": "markdown",
   "metadata": {},
   "source": [
    "Step 3. Once all the peaks in a trace have been identified, the peaks caused by the noise in the signal need to be removed. This is performed in the get_peaks function. When the peaks are ordered by height, knee detection is performed to identify the point when the height of the peaks stops changing due to the noise floor being reached. The steps are:\n",
    "\n",
    "1. Order the peaks by their height\n",
    "2. Calculate the gradient between each consecutive pair of peaks\n",
    "3. Smooth the gradients using a convolution operation\n",
    "4. Find the noise floor using the plateau_detection function\n",
    "\n",
    "The location of the threshold identified for a number of signals can be seen below:"
   ]
  },
  {
   "cell_type": "code",
   "execution_count": 22,
   "metadata": {},
   "outputs": [
    {
     "data": {
      "image/png": "[encoded data removed]",
      "text/plain": [
       "<Figure size 720x432 with 1 Axes>"
      ]
     },
     "metadata": {
      "needs_background": "light"
     },
     "output_type": "display_data"
    }
   ],
   "source": [
    "fig, ax = plt.subplots(1, 1, figsize=(10, 6))\n",
    "\n",
    "sigids = [2323, 10, 4200, 4225]\n",
    "colours = ['blue', 'red', 'orange', 'grey']\n",
    "for i, sigid in enumerate(sigids):\n",
    "    d = pq.read_pandas(\n",
    "        'train.parquet',\n",
    "        columns=[str(sigid)]\n",
    "    ).to_pandas().values[:, 0].astype(np.float)\n",
    "    get_peaks(d, visualise=True, visualise_color=colours[i])\n",
    "\n",
    "plt.xlim([0, 4000])\n",
    "plt.axhline(-0.01, color='black', ls='--')\n",
    "plt.yscale(\"symlog\")\n",
    "plt.xscale(\"symlog\")\n",
    "\n",
    "plt.xlabel('Sorted peak index')\n",
    "plt.ylabel('Gradient')\n",
    "plt.suptitle('Example of peak filtering')\n",
    "\n",
    "plt.show()"
   ]
  },
  {
   "cell_type": "markdown",
   "metadata": {},
   "source": [
    "# Preprocess Train Data\n"
   ]
  },
  {
   "cell_type": "code",
   "execution_count": 23,
   "metadata": {},
   "outputs": [],
   "source": [
    "RECALCULATE_PEAK_FEATURES = True"
   ]
  },
  {
   "cell_type": "code",
   "execution_count": 24,
   "metadata": {},
   "outputs": [
    {
     "name": "stdout",
     "output_type": "stream",
     "text": [
      "Wall time: 7min 1s\n"
     ]
    }
   ],
   "source": [
    "%%time\n",
    "\n",
    "if RECALCULATE_PEAK_FEATURES:\n",
    "\n",
    "    train_df = pq.read_pandas(\n",
    "        'train.parquet'\n",
    "    ).to_pandas()\n",
    "    \n",
    "    train_fft = calculate_50hz_fourier_coefficient(train_df.values)\n",
    "    \n",
    "    train_peaks = process_measurement(\n",
    "        train_df, \n",
    "        Train_df, \n",
    "        train_fft\n",
    "    )\n",
    "\n",
    "    del train_df, train_fft\n",
    "    gc.collect()"
   ]
  },
  {
   "cell_type": "code",
   "execution_count": 25,
   "metadata": {},
   "outputs": [],
   "source": [
    "if not RECALCULATE_PEAK_FEATURES:\n",
    "    train_peaks = pd.read_pickle('train_peaks.pkl')\n",
    "    \n",
    "train_peaks.to_pickle(\"train_peaks.pkl\")"
   ]
  },
  {
   "cell_type": "code",
   "execution_count": 26,
   "metadata": {},
   "outputs": [],
   "source": [
    "train_peaks = pd.merge(train_peaks, Train_df[['signal_id', 'id_measurement', 'target']], on='signal_id', how='left')"
   ]
  },
  {
   "cell_type": "markdown",
   "metadata": {},
   "source": [
    "# Preprocess Test Data"
   ]
  },
  {
   "cell_type": "code",
   "execution_count": 27,
   "metadata": {},
   "outputs": [
    {
     "name": "stdout",
     "output_type": "stream",
     "text": [
      "0\n",
      "1\n",
      "2\n",
      "3\n",
      "4\n",
      "5\n",
      "6\n",
      "7\n",
      "8\n",
      "9\n",
      "Wall time: 11min 39s\n"
     ]
    }
   ],
   "source": [
    "%%time\n",
    "\n",
    "if RECALCULATE_PEAK_FEATURES:\n",
    "    \n",
    "    NUM_TEST_CHUNKS = 10\n",
    "    \n",
    "    test_chunk_size = int(np.ceil((Test_df.shape[0]/3.)/float(NUM_TEST_CHUNKS))*3.)\n",
    "    \n",
    "    test_peaks = []\n",
    "\n",
    "    for j in range(NUM_TEST_CHUNKS):\n",
    "\n",
    "        j_start = j*test_chunk_size\n",
    "        j_end = (j+1)*test_chunk_size\n",
    "        \n",
    "        signal_ids = Test_df['signal_id'].values[j_start:j_end]\n",
    "\n",
    "        test_df = pq.read_pandas(\n",
    "            'test.parquet',\n",
    "            columns=[str(c) for c in signal_ids]\n",
    "        ).to_pandas()\n",
    "\n",
    "        test_fft = calculate_50hz_fourier_coefficient(test_df.values)\n",
    "        \n",
    "        p = process_measurement(\n",
    "            test_df, \n",
    "            Test_df.iloc[j_start:j_end], \n",
    "            test_fft\n",
    "        )\n",
    "\n",
    "        test_peaks.append(p)\n",
    "        \n",
    "        print(j)\n",
    "        \n",
    "        del test_df\n",
    "        gc.collect()\n",
    "        \n",
    "    del test_fft\n",
    "    gc.collect()\n",
    "        \n",
    "    test_peaks = pd.concat(test_peaks)\n",
    "    \n",
    "#Wall time : 12min 2s"
   ]
  },
  {
   "cell_type": "code",
   "execution_count": 28,
   "metadata": {},
   "outputs": [],
   "source": [
    "if not RECALCULATE_PEAK_FEATURES:\n",
    "    test_peaks = pd.read_pickle('test_peaks.pkl')\n",
    "    \n",
    "test_peaks.to_pickle(\"test_peaks.pkl\")"
   ]
  },
  {
   "cell_type": "code",
   "execution_count": 29,
   "metadata": {},
   "outputs": [],
   "source": [
    "test_peaks = pd.merge(test_peaks, Test_df[['signal_id', 'id_measurement']], on='signal_id', how='left')"
   ]
  },
  {
   "cell_type": "code",
   "execution_count": 30,
   "metadata": {},
   "outputs": [],
   "source": [
    "USE_SIMPLIFIED_VERSION = False"
   ]
  },
  {
   "cell_type": "markdown",
   "metadata": {},
   "source": [
    "# Features"
   ]
  },
  {
   "cell_type": "code",
   "execution_count": 31,
   "metadata": {},
   "outputs": [],
   "source": [
    "def process(peaks_df, meta_df, use_improved=True):\n",
    "\n",
    "    results = pd.DataFrame(index=meta_df['id_measurement'].unique())\n",
    "    results.index.rename('id_measurement', inplace=True)\n",
    "    \n",
    "    ################################################################################\n",
    "    \n",
    "    if not USE_SIMPLIFIED_VERSION:\n",
    "        # Filter peaks using ratio_next and height features\n",
    "        # Note: may not be all that important\n",
    "        peaks_df = peaks_df[~(\n",
    "            (peaks_df['ratio_next'] > 0.33333)\n",
    "            & (peaks_df['height'] > 50)\n",
    "        )]\n",
    "    \n",
    "    ################################################################################\n",
    "\n",
    "    # Count peaks in phase resolved quarters 0 and 2\n",
    "    p = peaks_df[peaks_df['Q'].isin([0, 2])].copy()\n",
    "    res = p.groupby('id_measurement').agg(\n",
    "    {\n",
    "        'px': ['count'],\n",
    "    })\n",
    "    res.columns = [\"peak_count_Q02\"]\n",
    "    results = pd.merge(results, res, on='id_measurement', how='left')\n",
    "        \n",
    "    ################################################################################\n",
    "    \n",
    "    # Count total peaks for each measurement id\n",
    "    res = peaks_df.groupby('id_measurement').agg(\n",
    "    {\n",
    "        'px': ['count'],\n",
    "    })\n",
    "    res.columns = [\"peak_count_total\"]\n",
    "    results = pd.merge(results, res, on='id_measurement', how='left')\n",
    "\n",
    "    ################################################################################\n",
    "\n",
    "    # Count peaks in phase resolved quarters 1 and 3\n",
    "    p = peaks_df[peaks_df['Q'].isin([1, 3])].copy()\n",
    "    res = p.groupby('id_measurement').agg(\n",
    "    {\n",
    "        'px': ['count'],\n",
    "    })\n",
    "    res.columns = ['peak_count_Q13']\n",
    "    results = pd.merge(results, res, on='id_measurement', how='left')\n",
    "    \n",
    "    ################################################################################\n",
    "    \n",
    "    # Calculate additional features using phase resolved quarters 0 and 2\n",
    "    \n",
    "    feature_quarters = [0, 2]\n",
    "    \n",
    "    p = peaks_df[peaks_df['Q'].isin(feature_quarters)].copy()\n",
    "    \n",
    "    p['abs_small_dist_to_min'] = np.abs(p['small_dist_to_min'])\n",
    "    \n",
    "    res = p.groupby('id_measurement').agg(\n",
    "    {\n",
    "        \n",
    "        'height': ['mean', 'std'],\n",
    "        'ratio_prev': ['mean'],\n",
    "        'ratio_next': ['mean'],\n",
    "        'abs_small_dist_to_min': ['mean'],        \n",
    "        'sawtooth_rmse': ['mean'],\n",
    "    })\n",
    "    res.columns = [\"_\".join(f) + '_Q02' for f in res.columns]     \n",
    "    results = pd.merge(results, res, on='id_measurement', how='left')\n",
    "        \n",
    "    return results"
   ]
  },
  {
   "cell_type": "code",
   "execution_count": 32,
   "metadata": {},
   "outputs": [],
   "source": [
    "def create_features(\n",
    "    meta_df, \n",
    "    peaks_df,\n",
    "):\n",
    "    \n",
    "    res = process(peaks_df, meta_df)\n",
    "    \n",
    "    return res"
   ]
  },
  {
   "cell_type": "code",
   "execution_count": 33,
   "metadata": {},
   "outputs": [
    {
     "name": "stdout",
     "output_type": "stream",
     "text": [
      "Wall time: 844 ms\n"
     ]
    }
   ],
   "source": [
    "%%time\n",
    "X_train_full = create_features( \n",
    "    Train_df, \n",
    "    train_peaks,\n",
    ")\n",
    "\n",
    "\n",
    "#Wall time : 1.05 s"
   ]
  },
  {
   "cell_type": "code",
   "execution_count": 34,
   "metadata": {},
   "outputs": [],
   "source": [
    "y_train = (\n",
    "    Train_df.groupby('id_measurement')['target'].sum().round(0).astype(np.int)\n",
    "    != 0\n",
    ").astype(np.float)\n",
    "\n",
    "assert np.all(y_train.index.values == X_train_full.index.values)"
   ]
  },
  {
   "cell_type": "code",
   "execution_count": 35,
   "metadata": {},
   "outputs": [
    {
     "name": "stdout",
     "output_type": "stream",
     "text": [
      "Wall time: 1.28 s\n"
     ]
    }
   ],
   "source": [
    "%%time\n",
    "X_test_full = create_features( \n",
    "    Test_df, \n",
    "    test_peaks,\n",
    ")\n",
    "\n",
    "#Wall time : 1.43 s"
   ]
  },
  {
   "cell_type": "code",
   "execution_count": 36,
   "metadata": {},
   "outputs": [],
   "source": [
    "default_features_to_drop = [\n",
    "    'id_measurement',\n",
    "    'phase',\n",
    "    'fft_phase',\n",
    "    'signal_id',\n",
    "]"
   ]
  },
  {
   "cell_type": "code",
   "execution_count": 37,
   "metadata": {},
   "outputs": [],
   "source": [
    "if USE_SIMPLIFIED_VERSION:\n",
    "    additional_features_to_drop = [\n",
    "        #'peak_count_Q13',\n",
    "        'abs_small_dist_to_min_mean_Q02',\n",
    "        'height_mean_Q02',\n",
    "        #'height_std_Q02',\n",
    "        #'sawtooth_rmse_mean_Q02',\n",
    "        #'peak_count_Q02',\n",
    "        'ratio_next_mean_Q02',\n",
    "        'ratio_prev_mean_Q02',\n",
    "        #'peak_count_total' \n",
    "    ]\n",
    "else:\n",
    "    additional_features_to_drop = []"
   ]
  },
  {
   "cell_type": "code",
   "execution_count": 38,
   "metadata": {},
   "outputs": [],
   "source": [
    "features_to_drop = (\n",
    "    default_features_to_drop\n",
    "    + additional_features_to_drop \n",
    ")"
   ]
  },
  {
   "cell_type": "code",
   "execution_count": 39,
   "metadata": {},
   "outputs": [],
   "source": [
    "if USE_SIMPLIFIED_VERSION:\n",
    "    feature_names = sorted([c for c in X_train_full.columns if c not in features_to_drop])\n",
    "else:\n",
    "    # to maintain consistent order with original version after feature renaming\n",
    "    feature_names = [\n",
    "        'peak_count_Q13',\n",
    "        'abs_small_dist_to_min_mean_Q02',\n",
    "        'height_mean_Q02',\n",
    "        'height_std_Q02',\n",
    "        'sawtooth_rmse_mean_Q02',\n",
    "        'peak_count_Q02',\n",
    "        'ratio_next_mean_Q02',\n",
    "        'ratio_prev_mean_Q02',\n",
    "        'peak_count_total'   \n",
    "    ]"
   ]
  },
  {
   "cell_type": "code",
   "execution_count": 40,
   "metadata": {},
   "outputs": [],
   "source": [
    "X_train = X_train_full[feature_names]\n",
    "X_test = X_test_full[feature_names]"
   ]
  },
  {
   "cell_type": "markdown",
   "metadata": {},
   "source": [
    "# Evaluating Matthews Correlation Coefficient \n",
    "\n",
    "The Matthews correlation coefficient is used in machine learning as a measure of the quality of binary (two-class) classifications. \n",
    "\n",
    "\n",
    "                         MCC =         (TP∗TN)−(FP∗FN)\n",
    "                               -----------------------------\n",
    "                               √(TP+FP)(TP+FN)(TN+FP)(TN+FN)\n",
    "\n",
    "\n",
    "\n",
    "\n",
    "In this equation, TP is the number of true positives, TN the number of true negatives, FP the number of false positives and FN the number of false negatives. If any of the four sums in the denominator is zero, the denominator can be arbitrarily set to one; this results in a Matthews correlation coefficient of zero, which can be shown to be the correct limiting value.\n",
    "\n",
    "\n",
    "\n",
    "MCC is calculated between the values of -1 and 1, where,\n",
    "\n",
    "-1 implies bad prediction\n",
    "\n",
    "0 is as good as a random prediction, and\n",
    "\n",
    "1 is a good prediction"
   ]
  },
  {
   "cell_type": "code",
   "execution_count": 41,
   "metadata": {},
   "outputs": [],
   "source": [
    "@numba.jit\n",
    "def mcc(tp, tn, fp, fn):\n",
    "    sup = tp * tn - fp * fn\n",
    "    inf = (tp + fp) * (tp + fn) * (tn + fp) * (tn + fn)\n",
    "    if inf==0:\n",
    "        return 0\n",
    "    else:\n",
    "        return sup / np.sqrt(inf)\n",
    "\n",
    "#@numba.jit\n",
    "def eval_mcc(y_true, y_prob, show=False):\n",
    "    \"\"\"\n",
    "    A fast implementation of Anokas mcc optimization code.\n",
    "\n",
    "    This code takes as input probabilities, and selects the threshold that \n",
    "    yields the best MCC score. It is efficient enough to be used as a \n",
    "    custom evaluation function in xgboost\n",
    "    \n",
    "    Source: https://www.kaggle.com/cpmpml/optimizing-probabilities-for-best-mcc\n",
    "    Source: https://www.kaggle.com/c/bosch-production-line-performance/forums/t/22917/optimising-probabilities-binary-prediction-script\n",
    "    Creator: CPMP\n",
    "    \"\"\"\n",
    "    idx = np.argsort(y_prob)\n",
    "    y_true_sort = y_true[idx]\n",
    "    n = y_true.shape[0]\n",
    "    nump = 1.0 * np.sum(y_true) # number of positive\n",
    "    numn = n - nump # number of negative\n",
    "    tp = nump\n",
    "    tn = 0.0\n",
    "    fp = numn\n",
    "    fn = 0.0\n",
    "    best_mcc = 0.0\n",
    "    best_id = -1\n",
    "    prev_proba = -1\n",
    "    best_proba = -1\n",
    "    mccs = np.zeros(n)\n",
    "    for i in range(n):\n",
    "        # all items with idx < i are predicted negative while others are predicted positive\n",
    "        # only evaluate mcc when probability changes\n",
    "        proba = y_prob[idx[i]]\n",
    "        if proba != prev_proba:\n",
    "            prev_proba = proba\n",
    "            new_mcc = mcc(tp, tn, fp, fn)\n",
    "            if new_mcc >= best_mcc:\n",
    "                best_mcc = new_mcc\n",
    "                best_id = i\n",
    "                best_proba = proba\n",
    "        mccs[i] = new_mcc\n",
    "        if y_true_sort[i] == 1:\n",
    "            tp -= 1.0\n",
    "            fn += 1.0\n",
    "        else:\n",
    "            fp -= 1.0\n",
    "            tn += 1.0\n",
    "    if show:\n",
    "        y_pred = (y_prob >= best_proba).astype(int)\n",
    "        score = matthews_corrcoef(y_true, y_pred)\n",
    "        plt.plot(mccs)\n",
    "        return best_proba, best_mcc, y_pred\n",
    "    else:\n",
    "        return best_proba,  best_mcc, None"
   ]
  },
  {
   "cell_type": "code",
   "execution_count": 42,
   "metadata": {},
   "outputs": [],
   "source": [
    "def train(\n",
    "    X_data, \n",
    "    y_data,\n",
    "    params,\n",
    "    feature_names, \n",
    "    verbose_eval=50,\n",
    "    kfold_random_state=23948,\n",
    "    predict=False,\n",
    "    calculate_mcc=False,\n",
    "    early_stopping_rounds=10,\n",
    "    num_folds=5,\n",
    "    num_iterations=10,\n",
    "):\n",
    "    \n",
    "    params = copy.deepcopy(params)\n",
    "    \n",
    "    models = []\n",
    "    cv_scores = []\n",
    "    val_cv_scores = []\n",
    "    if calculate_mcc:\n",
    "        mcc_scores = []\n",
    "        val_mcc_scores = []\n",
    "        thresholds=[]\n",
    "    else:\n",
    "        mcc_scores = None\n",
    "        val_mcc_scores = None\n",
    "        thresholds = None\n",
    "        \n",
    "    if predict:\n",
    "        yp_train = np.zeros(X_train.shape[0])\n",
    "        yp_val = np.zeros(X_train.shape[0])\n",
    "        yp_test = np.zeros(X_train.shape[0])\n",
    "    else:\n",
    "        yp_train = None\n",
    "        yp_val = None\n",
    "        yp_test = None\n",
    "        \n",
    "    for iter in range(num_iterations):\n",
    "        \n",
    "        np.random.seed(kfold_random_state + iter)\n",
    "        splits = np.zeros(X_data.shape[0], dtype=np.int)\n",
    "        m = y_data == 1\n",
    "        splits[m] = np.random.randint(0, 5, size=m.sum())\n",
    "        m = y_data == 0\n",
    "        splits[m] = np.random.randint(0, 5, size=m.sum())\n",
    "\n",
    "        for fold in range(num_folds):\n",
    "\n",
    "            val_fold = fold\n",
    "            test_fold = (fold + 1) % num_folds\n",
    "\n",
    "            train_folds = [f for f in range(num_folds) if f not in [val_fold, test_fold]]\n",
    "\n",
    "            train_indices = np.where(np.isin(splits, train_folds))[0]\n",
    "            val_indices = np.where(splits == val_fold)[0]\n",
    "            test_indices = np.where(splits == test_fold)[0]\n",
    "\n",
    "            trn = lgb.Dataset(\n",
    "                X_data.values[train_indices],\n",
    "                y_data[train_indices],\n",
    "                feature_name=feature_names,\n",
    "            )\n",
    "\n",
    "            val = lgb.Dataset(\n",
    "                X_data.values[val_indices],\n",
    "                y_data[val_indices],\n",
    "                feature_name=feature_names,\n",
    "            )\n",
    "\n",
    "            test = lgb.Dataset(\n",
    "                X_data.values[test_indices],\n",
    "                y_data[test_indices],\n",
    "                feature_name=feature_names,\n",
    "            )\n",
    "\n",
    "            # train model\n",
    "\n",
    "            with warnings.catch_warnings():\n",
    "                warnings.simplefilter(\"ignore\")\n",
    "                model = lgb.train(\n",
    "                    params, \n",
    "                    trn, \n",
    "                    #num_boost_round=10000, \n",
    "                    valid_sets=(trn, test, val), \n",
    "                    valid_names=(\"train\", \"test\", \"validation\"), \n",
    "                    fobj=None, \n",
    "                    feval=None,\n",
    "                    early_stopping_rounds=early_stopping_rounds,\n",
    "                    #evals_result=training_data,\n",
    "                    verbose_eval=verbose_eval,\n",
    "                )\n",
    "\n",
    "\n",
    "            yp = None\n",
    "\n",
    "            if predict:\n",
    "                yp = model.predict(X_train.values[train_indices])\n",
    "                yp_train[train_indices] += yp\n",
    "\n",
    "                yp_val_fold = model.predict(X_train.values[val_indices])\n",
    "                yp_val[val_indices] += yp_val_fold\n",
    "                \n",
    "                yp_test_fold = model.predict(X_train.values[test_indices])\n",
    "                yp_test[test_indices] += yp_test_fold\n",
    "\n",
    "            models.append(model)\n",
    "\n",
    "            s = model.best_score['test']\n",
    "            cv_scores.append(s[list(s.keys())[0]])\n",
    "\n",
    "            s = model.best_score['validation']\n",
    "            val_cv_scores.append(s[list(s.keys())[0]])\n",
    "\n",
    "            if calculate_mcc:\n",
    "\n",
    "                # find optimal probability threshold using training data\n",
    "                best_proba, _, _ = eval_mcc(\n",
    "                    y_train.values[train_indices].astype(np.float),\n",
    "                    yp, \n",
    "                    False\n",
    "                )\n",
    "\n",
    "                # calculate validation MCC score using optimal probability threshold\n",
    "                best_mcc_val = matthews_corrcoef(\n",
    "                    y_train.values[val_indices].astype(np.float), \n",
    "                    yp_val_fold.astype(np.float) > best_proba\n",
    "                )\n",
    "\n",
    "                # calculate test MCC score using optimal probability threshold\n",
    "                best_mcc = matthews_corrcoef(\n",
    "                    y_train.values[test_indices].astype(np.float), \n",
    "                    yp_test_fold.astype(np.float) > best_proba\n",
    "                )\n",
    "\n",
    "                val_mcc_scores.append(best_mcc_val)\n",
    "                mcc_scores.append(best_mcc)\n",
    "                thresholds.append(best_proba)\n",
    "\n",
    "    if yp_train is not None:\n",
    "        yp_train /= ((num_folds - 2) * num_iterations)\n",
    "        yp_val /= num_iterations\n",
    "        yp_test /= num_iterations\n",
    "            \n",
    "    cv_scores = np.array(cv_scores)\n",
    "    val_cv_scores = np.array(val_cv_scores)\n",
    "    if calculate_mcc:\n",
    "        mcc_scores = np.array(mcc_scores)\n",
    "        val_mcc_scores = np.array(val_mcc_scores)\n",
    "        thresholds = np.array(thresholds)\n",
    "        \n",
    "    return (\n",
    "        models,\n",
    "        cv_scores, val_cv_scores, \n",
    "        mcc_scores, val_mcc_scores, \n",
    "        yp_train, yp_val, yp_test, thresholds\n",
    "    )"
   ]
  },
  {
   "cell_type": "markdown",
   "metadata": {},
   "source": [
    "# Train"
   ]
  },
  {
   "cell_type": "code",
   "execution_count": 43,
   "metadata": {},
   "outputs": [],
   "source": [
    "params = {\n",
    "    'objective': 'binary',\n",
    "    #'is_unbalance': True,\n",
    "    'boosting': 'gbdt',\n",
    "    'learning_rate': 0.01,\n",
    "    'num_leaves': 80, # 61,\n",
    "    'num_threads': 4,\n",
    "    'metric': 'binary_logloss',\n",
    "    'feature_fraction': 0.8,\n",
    "    'bagging_freq': 1,\n",
    "    'bagging_fraction': 0.8,\n",
    "    'seed': 23974,\n",
    "    'num_boost_round': 10000,\n",
    "}"
   ]
  },
  {
   "cell_type": "code",
   "execution_count": 44,
   "metadata": {},
   "outputs": [
    {
     "name": "stdout",
     "output_type": "stream",
     "text": [
      "\n",
      "CV Logloss: 0.0981 +/- 0.0014 (0.0159)\n",
      "CV Val Logloss: 0.0983 +/- 0.0015 (0.0162)\n",
      "CV MCC: 0.7148 +/- 0.0051 (0.0572)\n",
      "CV VAL MCC: 0.7153 +/- 0.0049 (0.0543)\n",
      "Threshold 0.3551 +/- 0.0051\n",
      "MCC (measurement): 0.711\n",
      "MCC Test (measurement): 0.713\n",
      "Best Probability Threshold(measurement): 0.299\n",
      "MCC: 0.715\n",
      "MCC Test: 0.713\n",
      "Best Probability Threshold: 0.369\n",
      "Wall time: 1min 33s\n"
     ]
    }
   ],
   "source": [
    "%%time\n",
    "\n",
    "(\n",
    "    models,\n",
    "    cv_scores, val_cv_scores, \n",
    "    mcc_scores, val_mcc_scores, \n",
    "    yp_train, yp_val, yp_test, thresholds\n",
    ") = train(\n",
    "    X_train, \n",
    "    y_train,\n",
    "    params,\n",
    "    feature_names, \n",
    "    verbose_eval=0, # 50,\n",
    "    kfold_random_state=123948,\n",
    "    predict=True,\n",
    "    calculate_mcc=True,\n",
    "    early_stopping_rounds=100,\n",
    "    num_iterations=25 # 100\n",
    ")\n",
    "\n",
    "print(\"\")\n",
    "print(\"CV Logloss: {:.4f} +/- {:.4f} ({:.4f})\".format(cv_scores.mean(), cv_scores.std()/np.sqrt(cv_scores.shape[0]), cv_scores.std()))\n",
    "print(\"CV Val Logloss: {:.4f} +/- {:.4f} ({:.4f})\".format(val_cv_scores.mean(), val_cv_scores.std()/np.sqrt(val_cv_scores.shape[0]), val_cv_scores.std()))\n",
    "print(\"CV MCC: {:.4f} +/- {:.4f} ({:.4f})\".format(mcc_scores.mean(), mcc_scores.std()/np.sqrt(mcc_scores.shape[0]), mcc_scores.std()))\n",
    "print(\"CV VAL MCC: {:.4f} +/- {:.4f} ({:.4f})\".format(val_mcc_scores.mean(), val_mcc_scores.std()/np.sqrt(val_mcc_scores.shape[0]), val_mcc_scores.std()))\n",
    "print(\"Threshold {:.4f} +/- {:.4f}\".format(thresholds.mean(), thresholds.std()/np.sqrt(thresholds.shape[0])))\n",
    "\n",
    "##################################\n",
    "\n",
    "best_proba_meas, _, _ = eval_mcc(\n",
    "    y_train.values.astype(np.float),\n",
    "    yp_train, \n",
    "    False\n",
    ")\n",
    "\n",
    "best_mcc_meas = matthews_corrcoef(\n",
    "    y_train.values.astype(np.float), \n",
    "    yp_val > best_proba_meas\n",
    ")\n",
    "\n",
    "best_mcc_meas_test = matthews_corrcoef(\n",
    "    y_train.values.astype(np.float), \n",
    "    yp_test > best_proba_meas\n",
    ")\n",
    "\n",
    "plt.show()\n",
    "\n",
    "##################################\n",
    "\n",
    "yp_train_df = pd.DataFrame(\n",
    "    yp_train,\n",
    "    index=X_train_full.index\n",
    ")\n",
    "\n",
    "yp_val_df = pd.DataFrame(\n",
    "    yp_val,\n",
    "    index=X_train_full.index\n",
    ")\n",
    "\n",
    "yp_test_df = pd.DataFrame(\n",
    "    yp_test,\n",
    "    index=X_train_full.index\n",
    ")\n",
    "\n",
    "train_pred = Train_df[['id_measurement', 'signal_id', 'target']].copy()\n",
    "train_pred = pd.merge(train_pred, yp_train_df, on='id_measurement')\n",
    "train_pred.rename({0:'prediction'}, axis=1, inplace=True)\n",
    "\n",
    "val_pred = Train_df[['id_measurement', 'signal_id', 'target']].copy()\n",
    "val_pred = pd.merge(val_pred, yp_val_df, on='id_measurement')\n",
    "val_pred.rename({0:'prediction'}, axis=1, inplace=True)\n",
    "\n",
    "test_pred = Train_df[['id_measurement', 'signal_id', 'target']].copy()\n",
    "test_pred = pd.merge(test_pred, yp_test_df, on='id_measurement')\n",
    "test_pred.rename({0:'prediction'}, axis=1, inplace=True)\n",
    "\n",
    "best_proba, _, _ = eval_mcc(\n",
    "    train_pred['target'].values.astype(np.float),\n",
    "    train_pred['prediction'].values.astype(np.float),\n",
    "    False\n",
    ")\n",
    "\n",
    "best_mcc = matthews_corrcoef(\n",
    "    val_pred['target'].values.astype(np.float), \n",
    "    val_pred['prediction'].values.astype(np.float) > best_proba\n",
    ")\n",
    "\n",
    "best_mcc_test = matthews_corrcoef(\n",
    "    test_pred['target'].values.astype(np.float), \n",
    "    test_pred['prediction'].values.astype(np.float) > best_proba\n",
    ")\n",
    "\n",
    "##################################\n",
    "\n",
    "plt.show()\n",
    "\n",
    "print(\"MCC (measurement): {:.3f}\".format(best_mcc_meas))\n",
    "print(\"MCC Test (measurement): {:.3f}\".format(best_mcc_meas_test))\n",
    "print(\"Best Probability Threshold(measurement): {:.3f}\".format(best_proba_meas))\n",
    "\n",
    "print(\"MCC: {:.3f}\".format(best_mcc))\n",
    "print(\"MCC Test: {:.3f}\".format(best_mcc_test))\n",
    "print(\"Best Probability Threshold: {:.3f}\".format(best_proba))"
   ]
  },
  {
   "cell_type": "markdown",
   "metadata": {},
   "source": [
    "# Test and Submit"
   ]
  },
  {
   "cell_type": "code",
   "execution_count": 45,
   "metadata": {},
   "outputs": [
    {
     "data": {
      "text/html": [
       "<div>\n",
       "<style scoped>\n",
       "    .dataframe tbody tr th:only-of-type {\n",
       "        vertical-align: middle;\n",
       "    }\n",
       "\n",
       "    .dataframe tbody tr th {\n",
       "        vertical-align: top;\n",
       "    }\n",
       "\n",
       "    .dataframe thead th {\n",
       "        text-align: right;\n",
       "    }\n",
       "</style>\n",
       "<table border=\"1\" class=\"dataframe\">\n",
       "  <thead>\n",
       "    <tr style=\"text-align: right;\">\n",
       "      <th></th>\n",
       "      <th>peak_count_Q13</th>\n",
       "      <th>abs_small_dist_to_min_mean_Q02</th>\n",
       "      <th>height_mean_Q02</th>\n",
       "      <th>height_std_Q02</th>\n",
       "      <th>sawtooth_rmse_mean_Q02</th>\n",
       "      <th>peak_count_Q02</th>\n",
       "      <th>ratio_next_mean_Q02</th>\n",
       "      <th>ratio_prev_mean_Q02</th>\n",
       "      <th>peak_count_total</th>\n",
       "    </tr>\n",
       "    <tr>\n",
       "      <th>id_measurement</th>\n",
       "      <th></th>\n",
       "      <th></th>\n",
       "      <th></th>\n",
       "      <th></th>\n",
       "      <th></th>\n",
       "      <th></th>\n",
       "      <th></th>\n",
       "      <th></th>\n",
       "      <th></th>\n",
       "    </tr>\n",
       "  </thead>\n",
       "  <tbody>\n",
       "    <tr>\n",
       "      <th>2904</th>\n",
       "      <td>290.0</td>\n",
       "      <td>1.484163</td>\n",
       "      <td>7.425143</td>\n",
       "      <td>4.009624</td>\n",
       "      <td>0.078244</td>\n",
       "      <td>221</td>\n",
       "      <td>0.554138</td>\n",
       "      <td>0.434405</td>\n",
       "      <td>511</td>\n",
       "    </tr>\n",
       "    <tr>\n",
       "      <th>2905</th>\n",
       "      <td>36.0</td>\n",
       "      <td>5.000000</td>\n",
       "      <td>6.501553</td>\n",
       "      <td>0.197004</td>\n",
       "      <td>0.163236</td>\n",
       "      <td>31</td>\n",
       "      <td>0.448624</td>\n",
       "      <td>0.377635</td>\n",
       "      <td>67</td>\n",
       "    </tr>\n",
       "    <tr>\n",
       "      <th>2906</th>\n",
       "      <td>62.0</td>\n",
       "      <td>3.761905</td>\n",
       "      <td>7.955978</td>\n",
       "      <td>1.035703</td>\n",
       "      <td>0.186225</td>\n",
       "      <td>42</td>\n",
       "      <td>0.614419</td>\n",
       "      <td>0.589192</td>\n",
       "      <td>104</td>\n",
       "    </tr>\n",
       "    <tr>\n",
       "      <th>2907</th>\n",
       "      <td>91.0</td>\n",
       "      <td>2.160000</td>\n",
       "      <td>6.801500</td>\n",
       "      <td>3.512801</td>\n",
       "      <td>0.100066</td>\n",
       "      <td>75</td>\n",
       "      <td>0.434264</td>\n",
       "      <td>0.328138</td>\n",
       "      <td>166</td>\n",
       "    </tr>\n",
       "    <tr>\n",
       "      <th>2908</th>\n",
       "      <td>38.0</td>\n",
       "      <td>4.281250</td>\n",
       "      <td>4.787615</td>\n",
       "      <td>0.597925</td>\n",
       "      <td>0.169653</td>\n",
       "      <td>32</td>\n",
       "      <td>0.766745</td>\n",
       "      <td>0.634935</td>\n",
       "      <td>70</td>\n",
       "    </tr>\n",
       "  </tbody>\n",
       "</table>\n",
       "</div>"
      ],
      "text/plain": [
       "                peak_count_Q13  abs_small_dist_to_min_mean_Q02  \\\n",
       "id_measurement                                                   \n",
       "2904                     290.0                        1.484163   \n",
       "2905                      36.0                        5.000000   \n",
       "2906                      62.0                        3.761905   \n",
       "2907                      91.0                        2.160000   \n",
       "2908                      38.0                        4.281250   \n",
       "\n",
       "                height_mean_Q02  height_std_Q02  sawtooth_rmse_mean_Q02  \\\n",
       "id_measurement                                                            \n",
       "2904                   7.425143        4.009624                0.078244   \n",
       "2905                   6.501553        0.197004                0.163236   \n",
       "2906                   7.955978        1.035703                0.186225   \n",
       "2907                   6.801500        3.512801                0.100066   \n",
       "2908                   4.787615        0.597925                0.169653   \n",
       "\n",
       "                peak_count_Q02  ratio_next_mean_Q02  ratio_prev_mean_Q02  \\\n",
       "id_measurement                                                             \n",
       "2904                       221             0.554138             0.434405   \n",
       "2905                        31             0.448624             0.377635   \n",
       "2906                        42             0.614419             0.589192   \n",
       "2907                        75             0.434264             0.328138   \n",
       "2908                        32             0.766745             0.634935   \n",
       "\n",
       "                peak_count_total  \n",
       "id_measurement                    \n",
       "2904                         511  \n",
       "2905                          67  \n",
       "2906                         104  \n",
       "2907                         166  \n",
       "2908                          70  "
      ]
     },
     "execution_count": 45,
     "metadata": {},
     "output_type": "execute_result"
    }
   ],
   "source": [
    "X_test.head()\n"
   ]
  },
  {
   "cell_type": "code",
   "execution_count": 46,
   "metadata": {},
   "outputs": [
    {
     "data": {
      "text/plain": [
       "((6779, 9), (20337, 3))"
      ]
     },
     "execution_count": 46,
     "metadata": {},
     "output_type": "execute_result"
    }
   ],
   "source": [
    "X_test.shape, Test_df.shape\n"
   ]
  },
  {
   "cell_type": "code",
   "execution_count": 47,
   "metadata": {},
   "outputs": [
    {
     "data": {
      "text/plain": [
       "125"
      ]
     },
     "execution_count": 47,
     "metadata": {},
     "output_type": "execute_result"
    }
   ],
   "source": [
    "len(models)\n"
   ]
  },
  {
   "cell_type": "code",
   "execution_count": 48,
   "metadata": {},
   "outputs": [
    {
     "name": "stdout",
     "output_type": "stream",
     "text": [
      "Wall time: 8.77 s\n"
     ]
    }
   ],
   "source": [
    "%%time\n",
    "\n",
    "yp_test = np.zeros(X_test.shape[0])\n",
    "\n",
    "for j in range(len(models)):\n",
    "    \n",
    "    model = models[j]\n",
    "\n",
    "    yp_test += model.predict(X_test.values)/len(models)"
   ]
  },
  {
   "cell_type": "code",
   "execution_count": 49,
   "metadata": {},
   "outputs": [],
   "source": [
    "test_submission = pd.DataFrame(\n",
    "    yp_test,\n",
    "    index=X_test.index,\n",
    "    columns=['probability']\n",
    ")"
   ]
  },
  {
   "cell_type": "code",
   "execution_count": 50,
   "metadata": {},
   "outputs": [],
   "source": [
    "test_submission['probability_thresholded'] = (yp_test > best_proba).astype(np.int)\n"
   ]
  },
  {
   "cell_type": "code",
   "execution_count": 51,
   "metadata": {},
   "outputs": [],
   "source": [
    "test_submission = pd.merge(\n",
    "    Test_df[['id_measurement', 'signal_id']],\n",
    "    test_submission,\n",
    "    on='id_measurement',\n",
    "    how='left'\n",
    ")"
   ]
  },
  {
   "cell_type": "code",
   "execution_count": 52,
   "metadata": {},
   "outputs": [
    {
     "data": {
      "text/plain": [
       "729"
      ]
     },
     "execution_count": 52,
     "metadata": {},
     "output_type": "execute_result"
    }
   ],
   "source": [
    "test_submission['probability_thresholded'].sum()"
   ]
  },
  {
   "cell_type": "code",
   "execution_count": 53,
   "metadata": {},
   "outputs": [],
   "source": [
    "submission = pd.read_csv('sample_submission.csv')"
   ]
  },
  {
   "cell_type": "code",
   "execution_count": 54,
   "metadata": {},
   "outputs": [],
   "source": [
    "assert np.all(submission['signal_id'].values == test_submission['signal_id'].values)\n",
    "\n",
    "submission['target'] = test_submission['probability_thresholded'].values"
   ]
  },
  {
   "cell_type": "code",
   "execution_count": 55,
   "metadata": {},
   "outputs": [
    {
     "data": {
      "text/html": [
       "<div>\n",
       "<style scoped>\n",
       "    .dataframe tbody tr th:only-of-type {\n",
       "        vertical-align: middle;\n",
       "    }\n",
       "\n",
       "    .dataframe tbody tr th {\n",
       "        vertical-align: top;\n",
       "    }\n",
       "\n",
       "    .dataframe thead th {\n",
       "        text-align: right;\n",
       "    }\n",
       "</style>\n",
       "<table border=\"1\" class=\"dataframe\">\n",
       "  <thead>\n",
       "    <tr style=\"text-align: right;\">\n",
       "      <th></th>\n",
       "      <th>signal_id</th>\n",
       "      <th>target</th>\n",
       "    </tr>\n",
       "  </thead>\n",
       "  <tbody>\n",
       "    <tr>\n",
       "      <th>0</th>\n",
       "      <td>8712</td>\n",
       "      <td>0</td>\n",
       "    </tr>\n",
       "    <tr>\n",
       "      <th>1</th>\n",
       "      <td>8713</td>\n",
       "      <td>0</td>\n",
       "    </tr>\n",
       "    <tr>\n",
       "      <th>2</th>\n",
       "      <td>8714</td>\n",
       "      <td>0</td>\n",
       "    </tr>\n",
       "    <tr>\n",
       "      <th>3</th>\n",
       "      <td>8715</td>\n",
       "      <td>0</td>\n",
       "    </tr>\n",
       "    <tr>\n",
       "      <th>4</th>\n",
       "      <td>8716</td>\n",
       "      <td>0</td>\n",
       "    </tr>\n",
       "  </tbody>\n",
       "</table>\n",
       "</div>"
      ],
      "text/plain": [
       "   signal_id  target\n",
       "0       8712       0\n",
       "1       8713       0\n",
       "2       8714       0\n",
       "3       8715       0\n",
       "4       8716       0"
      ]
     },
     "execution_count": 55,
     "metadata": {},
     "output_type": "execute_result"
    }
   ],
   "source": [
    "submission.head()\n"
   ]
  },
  {
   "cell_type": "code",
   "execution_count": 56,
   "metadata": {},
   "outputs": [],
   "source": [
    "submission.to_csv('submission.csv', index=False)"
   ]
  },
  {
   "cell_type": "markdown",
   "metadata": {},
   "source": [
    "# Score Analysis\n",
    "\n",
    "\n",
    "•\tAs of this competition, my public score is 0.68008 on the public leaderboard with the highest score being 0.83490\n",
    "\n",
    "•\tOn the Private leaderboard, my score is 0.71899 and 0.71292 which is in the top 1%\n"
   ]
  },
  {
   "cell_type": "markdown",
   "metadata": {},
   "source": [
    "# Summary \n",
    "\n",
    "\n",
    "•\tIn this practice competition, I have summarized the best kernel that I found on the public board which was clear to understand and apply.\n",
    "\n",
    "•\tAs my own contribution, I made tweaks to the 'flatiron' function changing the peak alpha values.\n",
    "\n",
    "•\tWith changes in these values, I observed changes with the score in public board. As per my observation, with low alpha value, I saw my score dropping to 0.67477 from 0.68008.\n",
    "\n",
    "•\tHence, my modification/tweak did not work in my favor. \n",
    "\n",
    "•\tI also performed additional data evaluation and plotted graphs to understand the dataset.\n",
    "\n",
    "•\tAlso, I changed the values of the input parameter giving the phases instead of id_measurement. This does not work well in analysing the data as using the 'Group by' function for phase can yield completely different and erratic results. Each phase is a group of signals 0,1 and 2.\n"
   ]
  },
  {
   "cell_type": "markdown",
   "metadata": {},
   "source": [
    "# Conclusion\n",
    "\n",
    "•\tIn conclusion, a good enough solution has been developed to detect partial discharge in the faulty power lines. With this result, a considerable amount of cost reduction and power outage can be reduced.\n",
    "\n",
    "•\tAs with Matthews correlation coefficient, we have successfully achieved a score which is considerably close to 1 (which is considered a good MCC score).\n",
    "\n",
    "•\tWith the public score of 0.688 ~ 0.7 and a private score of 0.718, we are close to the perfect MCC score of 1.\n",
    "\n",
    "•\tWith further analysis and work, this score maybe improved which can further help with the problem.\n",
    "\n",
    "•\tIn conclusion, I have learnt a lot from this particular competition and was introduced to several new topics that are extremely challenging and convoluted.\n"
   ]
  },
  {
   "cell_type": "markdown",
   "metadata": {},
   "source": [
    "# Contributions \n",
    "\n",
    "By me - 20%\n",
    "External sources - 80%\n"
   ]
  },
  {
   "cell_type": "markdown",
   "metadata": {},
   "source": [
    "# Citations \n",
    "\n",
    "I am extremely grateful to the following kernels and referral materials -\n",
    "\n",
    "https://www.kaggle.com/ehsanolyaee/vsb-power-line-fault-detection\n",
    "\n",
    "https://www.kaggle.com/rishabhiitbhu/eda-vsb-power-line-fault-detection\n",
    "\n",
    "https://www.kaggle.com/go1dfish/basic-eda\n",
    "\n",
    "https://www.kaggle.com/mark4h/vsb-1st-place-solution\n",
    "\n",
    "https://www.kaggle.com/miklgr500/flatiron\n",
    "\n",
    "https://en.wikipedia.org/wiki/Matthews_correlation_coefficient\n",
    "\n",
    "https://www.kaggle.com/c/bosch-production-line-performance/forums/t/22917/optimising-probabilities-binary-prediction-script\n",
    "\n",
    "https://stackoverflow.com/questions/46572308/intersection-of-sorted-numpy-arrays\n",
    "\n",
    "https://www.kaggle.com/cpmpml/optimizing-probabilities-for-best-mcc\n"
   ]
  },
  {
   "cell_type": "markdown",
   "metadata": {},
   "source": [
    "# License\n",
    "\n",
    "Copyright 2019 Vishaka Varma Vimal\n",
    "\n",
    "Permission is hereby granted, free of charge, to any person obtaining a copy of this software and associated documentation files (the \"Software\"), to deal in the Software without restriction, including without limitation the rights to use, copy, modify, merge, publish, distribute, sublicense, and/or sell copies of the Software, and to permit persons to whom the Software is furnished to do so, subject to the following conditions:\n",
    "\n",
    "The above copyright notice and this permission notice shall be included in all copies or substantial portions of the Software.\n",
    "\n",
    "THE SOFTWARE IS PROVIDED \"AS IS\", WITHOUT WARRANTY OF ANY KIND, EXPRESS OR IMPLIED, INCLUDING BUT NOT LIMITED TO THE WARRANTIES OF MERCHANTABILITY, FITNESS FOR A PARTICULAR PURPOSE AND NONINFRINGEMENT. IN NO EVENT SHALL THE AUTHORS OR COPYRIGHT HOLDERS BE LIABLE FOR ANY CLAIM, DAMAGES OR OTHER LIABILITY, WHETHER IN AN ACTION OF CONTRACT, TORT OR OTHERWISE, ARISING FROM, OUT OF OR IN CONNECTION WITH THE SOFTWARE OR THE USE OR OTHER DEALINGS IN THE SOFTWARE."
   ]
  }
 ],
 "metadata": {
  "kernelspec": {
   "display_name": "Python 3",
   "language": "python",
   "name": "python3"
  },
  "language_info": {
   "codemirror_mode": {
    "name": "ipython",
    "version": 3
   },
   "file_extension": ".py",
   "mimetype": "text/x-python",
   "name": "python",
   "nbconvert_exporter": "python",
   "pygments_lexer": "ipython3",
   "version": "3.8.5"
  }
 },
 "nbformat": 4,
 "nbformat_minor": 2
}
